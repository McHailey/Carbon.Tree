{
 "cells": [
  {
   "cell_type": "markdown",
   "metadata": {},
   "source": [
    "# <center>  Simulating carbon fluxes with a variety level of model complexity </center>\n",
    "\n",
    "<center>By Meicheng Shen</center>\n"
   ]
  },
  {
   "cell_type": "markdown",
   "metadata": {},
   "source": [
    "<img src=\"https://earthzine.org/wp-content/uploads/2012/04/LiDar_French_guiana_forest_mangrove.jpg\" width=\"80%\">\n",
    "<p style=\"text-align: right;\">Image from: https://earthzine.org/wp-content/uploads/2012/04/LiDar_French_guiana_forest_mangrove.jpg</p>\n"
   ]
  },
  {
   "cell_type": "markdown",
   "metadata": {},
   "source": [
    "# Overview\n",
    "\n",
    "Climate change has changed our ecosystem a lot: changing thermal regimes induced by enhanced green house gases (GHG) emissions have infleunced the spatial-temporal distribution as well as the composition of vegetation. Moreover, vegetation dynamic triggered by changing climate could either mitigates or amplifies human-induced warming by regulating the mass/energy exchange between land surface and the atmosphere. Thus, quantifying the amount of carbon that plants have assimilated via photosythesis and understanding the underlying mechanism are crucial for modeling the Earth system in the past, current, and future. However, land sink has been the most uncertain component of global carbon budget in current Earth System Models (ESMs). Multiple reasons could potentially explain the high uncertainty of modeling vegetation photosynthetic production with ESMs. In this project, I want to test how canopy structure infleunce the modeling of Gross Primary Production (GPP), the amount of carbon fixed by vegetation through photosynthesis. \n",
    "\n",
    "Most of current ESMs assume vegetated canopy as a 1-D homongenous turbid medium that could reflect, absorb, or transmitt solar radiation without characterizing the arrangement of leaves or crowns. However, canopy structure -- including crown shape, leaf density, clumping, woody elements -- could influence the interaction between incoming sunlight and vegetation. In other words, canopy structure influences within-canopy light environment, and thus leaf photosynthetic productivity at different canopy positions. The spatial heterogenity of light envirionment induced by 3-D canopy structure are neglected in current ESMs, and could be one of the main factors that explain the limited prediction capacity in terrestrial production with current models. "
   ]
  },
  {
   "cell_type": "markdown",
   "metadata": {},
   "source": [
    "# Program Description"
   ]
  },
  {
   "cell_type": "markdown",
   "metadata": {},
   "source": [
    "In this project, I'm going to feed the 3-D radiative transfer model (RTM) with canopy physical structure obtained with LiDAR data in order to simulate the 3-D light environment. Specifically, the study area will be vexolized into 3-D square cubes with 1m resolution at both horizonal plane and vertical direction (height), while the RTM will simulate the light absorbed by the vegetation in each voxel. After reproducing the 3D light environment for each voxel with the RTM, the photosynthetic model will be coupled to estimate GPP based on the absorpted photosynthetic acitve radiation and vegetation parameters that are linked to specific plant functional types (PFTs). Finally, the GPP time series simulated by 3D RTM-photosynthesis coupled model will be evaluated and compared against the flux tower GPP data. Due to data limitation, our modeling experiment focuses on peak growing season (June - August) in temperate forests. Since our study sites are warm and humid during summer, we assume that there is no water or temperature pressure during the study period. \n",
    "\n",
    "To summarize, the work flow are listed as followed: \n",
    "\n",
    "1. Process LiDAR data to retrieve voxelized canopy structure. The LiDAR processing package is available in R code. \n",
    "2. Input the canopy sturcture from the previous step and other vegetation parameters from look-up-table into the 3D RTM. By simulating the interaction (reflectance, transmittance, and absorption) between vegetation and incoming solar radiation, the model could generate 3D light environment. The 3D RTM is written in Fortran. \n",
    "3. Input 3D light data and other vegetation paramters from look-up-table into the photosnythesis model writtern in R. \n",
    "4. Compare the modelled GPP and the GPP data obtained from Eddy Covariance flux towers. "
   ]
  },
  {
   "cell_type": "markdown",
   "metadata": {},
   "source": [
    "# Project Goals and Timeline\n",
    "\n",
    "Goal: \n",
    "1. Retrieve the canopy structure from LiDAR point cloud dataset in the study site. \n",
    "2. Couple FLiES 3D radiative transfer model with the photosynthesis model. \n",
    "3. Run the coupled model by feeding the 3D canopy structure and other vegetation parameters from Look-Up-Table.\n",
    "4. Evaluate the modelled GPP with “ground truth\" dataset from flux tower. \n",
    "\n",
    "By January, Dive into each model, summarize the model structure, discuss the feasibility of the project, and update the plan. \n",
    "\n",
    "If we decide to stick with this topic by the end of January, then:\n",
    "\n",
    "1. Finish processing the LiDAR data by mid-Feburary; (Call the R function with Python)\n",
    "2. Figure out how to run the FLiES model in order to obtain the 3D light environment by Feburary;\n",
    "3. Run the coupled 3D RTM and photosynthesis model by March for each voxel;\n",
    "4. Compare the flux tower data with modeling results. \n"
   ]
  },
  {
   "cell_type": "markdown",
   "metadata": {},
   "source": [
    "# Anticipating Challenges  \n",
    "\n",
    "List any key pieces of information/skills do you need to learn and/or mater to successfully complete all of your project goals.\n",
    "\n",
    "Key skills: \n",
    "1. Understand and run the modelling code in Fortran and R separately; \n",
    "2. Try to couple the Radiative Transfer Model and Photosynthesis Model;\n",
    "3. File/Data communication between different coding languages: \n",
    "    input: LiDAR data from R --> RTM model in Fortran --> Photosynthesis Model in R -- output: modelled GPP\n",
    "\n",
    "Also list challenges:\n",
    "1. Model is too complex to coupld and run. \n",
    "2. It is hard to call run models written in different programming language by python. \n",
    "\n",
    "Backup Plan: \n",
    "At the end of January, I'll figure the structure of the two models and one R packages, and then assess how hard it could be to run all the model. If we think it is infeasible to finish the modelling within this semester after discussion, I can change my project topic: using machine learning to retrieve nitrogen content in vegetation using airborne hyperspectral images. "
   ]
  }
 ],
 "metadata": {
  "kernelspec": {
   "display_name": "Python 3",
   "language": "python",
   "name": "python3"
  },
  "language_info": {
   "codemirror_mode": {
    "name": "ipython",
    "version": 3
   },
   "file_extension": ".py",
   "mimetype": "text/x-python",
   "name": "python",
   "nbconvert_exporter": "python",
   "pygments_lexer": "ipython3",
   "version": "3.7.3"
  }
 },
 "nbformat": 4,
 "nbformat_minor": 2
}
