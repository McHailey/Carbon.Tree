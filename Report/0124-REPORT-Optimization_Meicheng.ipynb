{
 "cells": [
  {
   "cell_type": "markdown",
   "metadata": {},
   "source": [
    "In order to successfully complete this assignment you need to turn in a project proposal to D2L on or before **11:59pm on Friday January 24**."
   ]
  },
  {
   "cell_type": "markdown",
   "metadata": {},
   "source": [
    "# <center>Using Optimization in quantitative remote sensing of vegetation</center>\n",
    "\n",
    "<center>by Meicheng Shen</center>"
   ]
  },
  {
   "cell_type": "markdown",
   "metadata": {},
   "source": [
    "The mathmatical model of quantitative remote sensing can be abstracted as followed [(Yang, 2010)](https://www.infona.pl/resource/bwmeta1.element.springer-c86cce95-0697-3cb2-8530-5eb01844103a): \n",
    "\n",
    "\\begin{equation*}\n",
    "y_i = f(a_i,b_i,c_i,d_i,e_i,\\epsilon_i)\n",
    "\\end{equation*}\n",
    "\n",
    "\n",
    "$\n",
    "\\begin{align}\n",
    "\\text{where,}\\\\\n",
    "y_i & \\text{ is radiation signal received by remote sensors;}\\\\\n",
    "a_i & \\text{ is radiation source;}\\\\\n",
    "b_i & \\text{ is atmospheric condition;}\\\\\n",
    "c_i & \\text{ is vegetation;}\\\\\n",
    "d_i & \\text{ is ground and soil;}\\\\\n",
    "e_i & \\text{ is sensors;}\\\\\n",
    "\\epsilon_i & \\text{ is unknown noise;}\\\\\n",
    "\\end{align}\n",
    "$\n",
    "\n",
    "\n",
    "Vegetation model inversion means recovering parameter $ c_i $ given observed data $ y_i $ and other parameters $ a_i,b_i,d_i,e_i $. \n",
    "\n",
    "Vegetation inversion methods could be generally classified as empirical methods or process-based approaches by applying radiative transfer model (RTM), which is a process-based physiological model that could simulate the reflectance of vegetation based on a number of vegetation paramters [(Jacquemoud, 2009)](https://doi.org/10.1016/j.rse.2008.01.026), including leaf area index ($LAI$), $Chl_l$, and leaf water content ($C_w$), etc. In either one of the two approaches, Optimization is applied to retrieve biophysical or biochemical vegetation parameters by minimizing the discrepancy between modelled and measured reflectance. Taking the leaf chlorophyll content ($Chl_l$) as an example. This parameter have been commonly studied since it is a crucial variable in regulating vegetation photosynthesis. Simple empirical models between reflectance and $Chl_l$ can be established by sampling multiple leaves and measuring their spectrum as well as $Chl_l$. However, this statistical method lack physiological foundations, and may be site- or/and time- dependent. More robust and transferrable model for $Chl_l$ estimation could be combining look up table ($LUT$) with RTM. Simpliy speaking, $LUT$ with a variety of $Chl_l$ is first developed with forward simluation of the $RTM$. Then, $Chl_l$ is obtained by finding the value that minimize the differences between measured and simulated reflective spectra in $LUT$ [(Jay, 2017)](https://doi.org/10.1016/j.fcr.2017.05.005). \n",
    "\n",
    "In my project, leaf nitrogen content ($[N]_L$) and leaf mass per area ($LMA$) are needed to be mapped with hyperspectral images in order to run the radiative transfer model that I want to compare. Since the ultimate goal is to evaluate RTM rather than developing a robust framework for nitrogen inversion, I will use empirical methods to estimate ($[N]_L$) and ($LMA$). With the ground-measured reflectance spectrum and lab-measured ($[N]_L$) and ($LMA$), statistical models such as partial least square regression (PLS) could be developed [(Ecarnot, 2013)](https://doi.org/10.1016/j.fcr.2012.10.013), where optimization is used for estimating the coefficient parameters.\n",
    "\n"
   ]
  }
 ],
 "metadata": {
  "anaconda-cloud": {},
  "kernelspec": {
   "display_name": "Python 3",
   "language": "python",
   "name": "python3"
  },
  "language_info": {
   "codemirror_mode": {
    "name": "ipython",
    "version": 3
   },
   "file_extension": ".py",
   "mimetype": "text/x-python",
   "name": "python",
   "nbconvert_exporter": "python",
   "pygments_lexer": "ipython3",
   "version": "3.7.3"
  }
 },
 "nbformat": 4,
 "nbformat_minor": 1
}
